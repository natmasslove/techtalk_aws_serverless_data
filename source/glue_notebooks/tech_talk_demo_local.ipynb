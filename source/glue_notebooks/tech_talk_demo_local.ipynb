{
 "cells": [
  {
   "cell_type": "markdown",
   "id": "c12369f9-68d9-44d1-891a-bff15c8db2bb",
   "metadata": {},
   "source": [
    "### Settings for your glue session (it's not created yet in this step)"
   ]
  },
  {
   "cell_type": "code",
   "execution_count": null,
   "id": "e826d144-3b1c-4f3c-882f-2fd91be77f4d",
   "metadata": {},
   "outputs": [],
   "source": [
    "%profile super_soname_1\n",
    "%iam_role arn:aws:iam::405389362913:role/role-techtalk-glue-notebook\n",
    "%idle_timeout 10\n",
    "%number_of_workers 2"
   ]
  },
  {
   "cell_type": "markdown",
   "id": "5242b240-d139-41d2-93a1-98e730d60d12",
   "metadata": {},
   "source": [
    "### \"Simulate\" passing parameters to your Glue Job"
   ]
  },
  {
   "cell_type": "code",
   "execution_count": null,
   "id": "4873006a-5f25-4691-8196-6b40ad81fa6c",
   "metadata": {},
   "outputs": [],
   "source": [
    "%%configure\n",
    "{\n",
    "    \"--s3_bucket_name\" : \"s3-techtalk-aws-serverless-data\",\n",
    "    \"--input_path\": \"nyc_rides_2022_csv/yellow_tripdata_2022-01.csv\",\n",
    "    \"--output_path\": \"output/glue/\"    \n",
    "}"
   ]
  },
  {
   "cell_type": "markdown",
   "id": "a7ed38ac-e87e-45c4-9a48-42e787a4d2c6",
   "metadata": {},
   "source": [
    "### This starts your Glue session"
   ]
  },
  {
   "cell_type": "code",
   "execution_count": null,
   "id": "2a53c789-1b44-436d-9f9a-6786a777e753",
   "metadata": {},
   "outputs": [],
   "source": [
    "import sys\r\n",
    "from awsglue.transforms import *\r\n",
    "from awsglue.utils import getResolvedOptions\r\n",
    "from pyspark.context import SparkContext\r\n",
    "from awsglue.context import GlueContext\r\n",
    "from awsglue.job import Job\r\n",
    "\r\n",
    "sc = SparkContext.getOrCreate()\r\n",
    "glueContext = GlueContext(sc)\r\n",
    "spark = glueContext.spark_session"
   ]
  },
  {
   "cell_type": "markdown",
   "id": "efc32a92-0724-45d0-8b97-377dbb941ce5",
   "metadata": {},
   "source": [
    "### Some application logic"
   ]
  },
  {
   "cell_type": "code",
   "execution_count": null,
   "id": "5821da35-5c6f-4d63-97b3-383a236e266f",
   "metadata": {},
   "outputs": [],
   "source": [
    "# Fetching arguments\n",
    "args = getResolvedOptions(sys.argv, [\"s3_bucket_name\",\"input_path\",\"output_path\"])\n",
    "s3_bucket_name = args[\"s3_bucket_name\"]\n",
    "input_path = args[\"input_path\"]\n",
    "output_path = args[\"output_path\"]\n",
    "print(f\"Using s3 bucket name {s3_bucket_name}\\n Reading from {input_path}\\n Writing to {output_path}\\n\")\n",
    "\n",
    "full_input_path = f\"s3://{s3_bucket_name}/{input_path}\"\n",
    "full_output_path = f\"s3://{s3_bucket_name}/{output_path}\"\n",
    "\n",
    "print(f'Reading CSV file from {full_input_path}')\n",
    "df = spark.read.csv(full_input_path, header=True)\n"
   ]
  },
  {
   "cell_type": "code",
   "execution_count": null,
   "id": "ddca4d17-78a2-4c10-8d5d-9e6818d7159a",
   "metadata": {},
   "outputs": [],
   "source": [
    "print(df.count())"
   ]
  },
  {
   "cell_type": "markdown",
   "id": "4e718e65-3067-4dcc-b0a1-f4452bd22695",
   "metadata": {},
   "source": [
    "### Stopping your session"
   ]
  },
  {
   "cell_type": "code",
   "execution_count": null,
   "id": "c207978f-62b6-4eb1-91fa-749a0fd0dc74",
   "metadata": {},
   "outputs": [],
   "source": [
    "%stop_session"
   ]
  }
 ],
 "metadata": {
  "kernelspec": {
   "display_name": "Glue PySpark",
   "language": "python",
   "name": "glue_pyspark"
  },
  "language_info": {
   "codemirror_mode": {
    "name": "python",
    "version": 3
   },
   "file_extension": ".py",
   "mimetype": "text/x-python",
   "name": "Python_Glue_Session",
   "pygments_lexer": "python3"
  }
 },
 "nbformat": 4,
 "nbformat_minor": 5
}
